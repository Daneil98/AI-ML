{
 "cells": [
  {
   "cell_type": "code",
   "execution_count": null,
   "id": "e5b35b2d",
   "metadata": {},
   "outputs": [],
   "source": [
    "#Import necessary ML modules\n",
    "import numpy as np\n",
    "import matplotlib.pyplot as plt\n",
    "#from sklearn.datasets import make_circles\n",
    "\n",
    "# Create synthetic data\n",
    "#x, y = make_circles(n_samples=300, noise=0.1, factor=0.7, random_state=0)\n",
    "\n",
    "#plot the points with their labels\n",
    "plt.figure(figsize=(8,6))\n",
    "plt.scatter(x[:, 0], x[:, 1], c=y, cmap=plt.cm.RdYlGn, edgecolors='k', marker='o', s=50)\n",
    "plt.xlabel(\"Feature 1(x[:, 0])\")\n",
    "plt.ylabel(\"Feature 2(x[:, 1])\")\n",
    "plt.title(\"Synthetic Data with make_circles\")\n",
    "plt.colorbar(label='Class Label')\n",
    "plt.show()\n"
   ]
  },
  {
   "cell_type": "code",
   "execution_count": null,
   "id": "6c347492",
   "metadata": {},
   "outputs": [
    {
     "data": {
      "application/vnd.jupyter.widget-view+json": {
       "model_id": "8754965f7d6c40b7ab36e0cd5b6a291a",
       "version_major": 2,
       "version_minor": 0
      },
      "text/plain": [
       "interactive(children=(IntSlider(value=1, description='Hidden Layer Size:', max=10, min=1), Output()), _dom_cla…"
      ]
     },
     "metadata": {},
     "output_type": "display_data"
    }
   ],
   "source": [
    "#Import necessary ML modules\n",
    "import numpy as np\n",
    "import matplotlib.pyplot as plt\n",
    "from sklearn.datasets import make_circles\n",
    "from sklearn.neural_network import MLPClassifier\n",
    "import ipywidgets as widgets\n",
    "from IPython.display import display\n",
    "from ipywidgets import interactive \n",
    "\n",
    "#Function to update and display the plot\n",
    "def update_plot(hidden_layer_size):\n",
    "    #Generate synthetic data\n",
    "    x, y = make_circles(n_samples=300, noise=0.1, factor=0.5, random_state=0)\n",
    "    \n",
    "    # Initialize and train the MLPClassifier\n",
    "    model = MLPClassifier(hidden_layer_sizes=(hidden_layer_size), activation='relu', \n",
    "                          max_iter=3000, random_state=1)\n",
    "    \n",
    "    #fit the classifier to the data\n",
    "    model.fit(x, y)\n",
    "    \n",
    "    # Create a grid of points for visualization\n",
    "    # 1D arrays of 100 values each, representing the x and y coordinates of the grid\n",
    "    x_vals = np.linspace(x[:, 0].min() - 0.1, x[:, 0].max() + 0.1, 100)\n",
    "    y_vals = np.linspace(x[:, 1].min() - 0.1, x[:, 1].max() + 0.1, 100)\n",
    "    \n",
    "    #The resulting x and y plane are both 100x100 arrays representing the grid of 10,000 points\n",
    "    x_plane, y_plane = np.meshgrid(x_vals, y_vals)\n",
    "    \n",
    "    #Grid points is a single 2D array with shape (10000, 2), where each row is a point in the grid\n",
    "    grid_points = np.column_stack((x_plane.ravel(), y_plane.ravel()))\n",
    "    \n",
    "    #Predict the class for each point in the grid\n",
    "    Z = model.predict(grid_points)\n",
    "    \n",
    "    #Reshape the predictions back to the grid shape (100, 100)\n",
    "    Z = Z.reshape(x_plane.shape)\n",
    "    \n",
    "    #predict class labels for the original data points\n",
    "    y_pred = model.predict(x)\n",
    "    \n",
    "    #clear previous plot\n",
    "    plt.clf()\n",
    "    \n",
    "    #Plot the decision boundary and data points\n",
    "    plt.contour(x_plane, y_plane, Z, levels=[-.5, .5, 1.5], cmp=plt.cm.RdYlGn, alpha=0.6)\n",
    "    \n",
    "    #plot original data points with predicted labels\n",
    "    class_0 = (y_pred == 0)     #Indices of points predicted as class 0\n",
    "    class_1 = (y_pred == 1)     #Indices of points predicted as class 1\n",
    "    \n",
    "    plt.scatter(x[class_0, 0], x[class_0, 1], c='red', edgecolors='k', marker='o', s=50, label='Class 0')\n",
    "    plt.scatter(x[class_1, 0], x[class_1, 1], c='green', edgecolors='k', marker='o', s=50, label='Class 1')\n",
    "    \n",
    "    #Add labels and title\n",
    "    plt.xlabel(\"Feature 1\")\n",
    "    plt.ylabel(\"Feature 2\")\n",
    "    plt.title(\"Decision Boundary with Hidden Layer Size: {}\".format(hidden_layer_size))\n",
    "    plt.legend()\n",
    "    plt.show()\n",
    "\n",
    "#Create an interactive widget to adjust hidden layer size\n",
    "hidden_layer_slider = widgets.IntSlider(value=1, min=1, max=10, step=1, description='Hidden Layer Size:')\n",
    "\n",
    "#Create the interactive widget\n",
    "interactive_plot = interactive(update_plot, hidden_layer_size=hidden_layer_slider)\n",
    "\n",
    "#display the widget\n",
    "display(interactive_plot)"
   ]
  }
 ],
 "metadata": {
  "kernelspec": {
   "display_name": "Python 3",
   "language": "python",
   "name": "python3"
  },
  "language_info": {
   "codemirror_mode": {
    "name": "ipython",
    "version": 3
   },
   "file_extension": ".py",
   "mimetype": "text/x-python",
   "name": "python",
   "nbconvert_exporter": "python",
   "pygments_lexer": "ipython3",
   "version": "3.9.13"
  }
 },
 "nbformat": 4,
 "nbformat_minor": 5
}
