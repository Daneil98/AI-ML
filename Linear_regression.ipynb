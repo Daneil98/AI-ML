{
 "cells": [
  {
   "cell_type": "code",
   "execution_count": 1,
   "id": "a8e690cd",
   "metadata": {},
   "outputs": [],
   "source": [
    "#Import necessary libraries\n",
    "import numpy as np\n",
    "import matplotlib.pyplot as plt\n",
    "from ipywidgets import interact, FloatSlider\n",
    "from IPython.display import display, clear_output"
   ]
  },
  {
   "cell_type": "code",
   "execution_count": 2,
   "id": "5dcd36a7",
   "metadata": {},
   "outputs": [],
   "source": [
    "#Generate synthetic data\n",
    "np.random.seed(0)\n",
    "X = np.linspace(0, 10, 100)\n",
    "Y = 2 * X + 1 + np.random.normal(0, 2, 100)"
   ]
  },
  {
   "cell_type": "code",
   "execution_count": 6,
   "id": "1c96d5a8",
   "metadata": {},
   "outputs": [],
   "source": [
    "#Create a plot function for interactive visualization\n",
    "def plot_linear_regression(slope=2.0, intercept=1.0):\n",
    "    predicted_Y = slope * X + intercept\n",
    "    loss = np.mean((Y - predicted_Y) ** 2)  # MSE\n",
    "    \n",
    "    #create the plot\n",
    "    plt.figure(figsize=(10, 5))\n",
    "    plt.scatter(X, Y, label='Data Points')\n",
    "    plt.plot(X, predicted_Y, color='red', label='Linear Regression Line')\n",
    "    plt.xlabel('X')\n",
    "    plt.ylabel('Y/Predicted Y')\n",
    "    plt.title(f'Linear Regression (Loss: {loss:.2f})')\n",
    "    plt.legend()\n",
    "    plt.grid(True)\n",
    "    plt.show()  "
   ]
  },
  {
   "cell_type": "code",
   "execution_count": null,
   "id": "ee7af51a",
   "metadata": {},
   "outputs": [
    {
     "data": {
      "application/vnd.jupyter.widget-view+json": {
       "model_id": "6c3c2a6ef53a40b7a8b293fd2102d43f",
       "version_major": 2,
       "version_minor": 0
      },
      "text/plain": [
       "interactive(children=(FloatSlider(value=2.0, description='Slope:', max=5.0, min=-5.0), FloatSlider(value=3.0, …"
      ]
     },
     "metadata": {},
     "output_type": "display_data"
    }
   ],
   "source": [
    "#Create Sliders\n",
    "slope_slider = FloatSlider(value=2.0, min=-5.0, max=5.0, step=0.1, description='Slope:')\n",
    "intercept_slider = FloatSlider(value=3.0, min=-5.0, max=5.0, step=0.1, description='Intercept:')\n",
    "\n",
    "#Create an interactive slider\n",
    "interactive_plot = interact(plot_linear_regression, slope=slope_slider, intercept=intercept_slider)"
   ]
  }
 ],
 "metadata": {
  "kernelspec": {
   "display_name": "Python 3",
   "language": "python",
   "name": "python3"
  },
  "language_info": {
   "codemirror_mode": {
    "name": "ipython",
    "version": 3
   },
   "file_extension": ".py",
   "mimetype": "text/x-python",
   "name": "python",
   "nbconvert_exporter": "python",
   "pygments_lexer": "ipython3",
   "version": "3.9.13"
  }
 },
 "nbformat": 4,
 "nbformat_minor": 5
}
